{
 "cells": [
  {
   "cell_type": "markdown",
   "metadata": {},
   "source": [
    "# Download datasets and model\n",
    "(skip if you have already done this)\n",
    "\n",
    "By default, this will download all datasets and all models. \n",
    "You can fine-tune what you download by passing the --datasets flag for download_datasets.py and the --datasets and --seeds flags for download_model.py. \n",
    "Files will be downloaded to ./datasets and ./models by default.\n",
    "To change the directories pass the --dest flag."
   ]
  },
  {
   "cell_type": "code",
   "execution_count": 4,
   "metadata": {},
   "outputs": [
    {
     "name": "stdout",
     "output_type": "stream",
     "text": [
      "Downloading 1PLWW05OeHCWAR6o91PI8OyCLbXpOYSrZ into ./datasets/pokemon/pokemon.zip... Done.\n",
      "Unzipping...Done.\n",
      "all done!\n",
      "download_models.py:4: DeprecationWarning: Using or importing the ABCs from 'collections' instead of from 'collections.abc' is deprecated since Python 3.3,and in 3.9 it will stop working\n",
      "  from collections import Sequence\n",
      "Downloading 1okRM6Lqu5XJL2sQFrmOO1KifW2K4d9x2 into ./models/pokemon-0.zip... Done.\n",
      "Unzipping...Done.\n",
      "all done!\n"
     ]
    }
   ],
   "source": [
    "# --datasets pokemon celeba stl-10 --dest ./datasets\n",
    "!python download_datasets.py\n",
    "# --datasets pokemonceleba stl-10 --seeds 0 1 2 --dest ./models\n",
    "!python download_models.py "
   ]
  },
  {
   "cell_type": "markdown",
   "metadata": {},
   "source": [
    "# Imports"
   ]
  },
  {
   "cell_type": "code",
   "execution_count": 26,
   "metadata": {},
   "outputs": [],
   "source": [
    "import torch as pt\n",
    "import numpy as np\n",
    "import matplotlib.pyplot as plt\n",
    "import ipywidgets as ipw\n",
    "from collections import defaultdict, Sequence, OrderedDict\n",
    "import os\n",
    "from datasets import Representations\n",
    "import cv2"
   ]
  },
  {
   "cell_type": "markdown",
   "metadata": {},
   "source": [
    "# Load dataset and models"
   ]
  },
  {
   "cell_type": "code",
   "execution_count": 31,
   "metadata": {},
   "outputs": [],
   "source": [
    "# specify which dataset and models to load\n",
    "dataset_type = 'pokemon'\n",
    "seed = 0\n",
    "model_dir = 'models/'\n",
    "data_dir = 'datasets/'"
   ]
  },
  {
   "cell_type": "code",
   "execution_count": null,
   "metadata": {},
   "outputs": [],
   "source": [
    "# load all models for this dataset and seed\n",
    "sizes = [4, 8, 16] if dataset_type == 'pokemon' else [3, 6, 12]\n",
    "input_size = 128 if dataset_type == 'pokemon' else 96\n",
    "models = defaultdict(dict)\n",
    "for size in sizes:\n",
    "    channel_configs = reversed([(3 * input_size ** 2) // (4 ** k * size ** 2) for k in range(4)])\n",
    "    for channels in channel_configs:\n",
    "        filename = f'model-{dataset}-{size}-{channels}-{seed}.pt'\n",
    "        models[size][channels] = pt.load(os.path.join(model_dir, filename), map_location=pt.device('cpu'))"
   ]
  },
  {
   "cell_type": "code",
   "execution_count": 32,
   "metadata": {},
   "outputs": [],
   "source": [
    "# load dataset\n",
    "mode = 'test'\n",
    "dataset = Representations(os.path.join(data_dir, dataset_type, f'codes_{mode}.pt'), fraction=1, shuffle=0)"
   ]
  },
  {
   "cell_type": "markdown",
   "metadata": {},
   "source": [
    "# Visualize reconstructions"
   ]
  },
  {
   "cell_type": "code",
   "execution_count": 17,
   "metadata": {},
   "outputs": [
    {
     "data": {
      "application/vnd.jupyter.widget-view+json": {
       "model_id": "597fb439f8414675bbf0a7b2becf5496",
       "version_major": 2,
       "version_minor": 0
      },
      "text/plain": [
       "interactive(children=(IntSlider(value=317, description='i', max=634), Checkbox(value=False, description='cuda'…"
      ]
     },
     "metadata": {},
     "output_type": "display_data"
    },
    {
     "data": {
      "text/plain": [
       "<function __main__.plot_samples(i, cuda=False)>"
      ]
     },
     "execution_count": 17,
     "metadata": {},
     "output_type": "execute_result"
    }
   ],
   "source": [
    "def plot_samples(i, cuda=False):\n",
    "    global models\n",
    "    global dataset\n",
    "    figsize = [16, 9]\n",
    "    subsize=3\n",
    "    \n",
    "    # setup pyplot figure with subplots\n",
    "    fig= plt.figure(figsize=figsize)\n",
    "    original = plt.subplot2grid(figsize[::-1], (3, 0), rowspan=3, colspan=3)\n",
    "    axs = []\n",
    "    for j in range(3):\n",
    "        axs += [[plt.subplot2grid(figsize[::-1], (subsize*j, 4+subsize*k), rowspan=subsize, colspan=subsize, xticks=[], yticks=[]) for k in range(4)]]\n",
    "    \n",
    "    # populate subplots\n",
    "    sample = dataset[i][0].float().cuda() if cuda else dataset[i][0].float()\n",
    "    im_size = sample.shape[-1]\n",
    "    original.imshow(sample.permute(1,2,0).cpu())\n",
    "    original.set_axis_off()\n",
    "\n",
    "    first_row = True\n",
    "    for ax, (size, models_sub) in zip(axs, models.items()):\n",
    "        first_col = True\n",
    "        for a, (channels, model) in zip(ax, models_sub.items()):\n",
    "            model = model.float().cuda() if cuda else model.float().cpu()\n",
    "            pred = model(sample[None, ...])[0]\n",
    "            pred = pred/pred.max()\n",
    "            a.imshow(pred.permute(1,2,0).cpu())\n",
    "            if first_row:\n",
    "                a.set_title(f'{round(100*(channels*size**2)/(3*im_size**2), 2)}%', fontsize=28)\n",
    "            if first_col:\n",
    "                a.set_ylabel(size, fontsize=28)\n",
    "                first_col = False\n",
    "        first_row = False\n",
    "    plt.subplots_adjust(0,0,1,1,0.03,0.03)\n",
    "    plt.show()\n",
    "    \n",
    "ipw.interact(plot_samples, i=(0, len(dataset)))"
   ]
  },
  {
   "cell_type": "markdown",
   "metadata": {},
   "source": [
    "# Inspect feature maps\n",
    "\n",
    "visualize feature maps after each layer\n",
    "\n",
    "left image is the feature map overlayed onto the input image\n",
    "right image is just the feature map (red = positive, blue = negative)\n",
    "\n",
    "name of the layer is shown in the upper left"
   ]
  },
  {
   "cell_type": "code",
   "execution_count": 34,
   "metadata": {},
   "outputs": [
    {
     "name": "stdout",
     "output_type": "stream",
     "text": [
      "ZeroPad2d\n"
     ]
    },
    {
     "data": {
      "application/vnd.jupyter.widget-view+json": {
       "model_id": "d6e0d7015feb4ef580108193fd2cffee",
       "version_major": 2,
       "version_minor": 0
      },
      "text/plain": [
       "interactive(children=(IntSlider(value=0, continuous_update=False, description='index', max=157), IntSlider(val…"
      ]
     },
     "metadata": {},
     "output_type": "display_data"
    },
    {
     "data": {
      "text/plain": [
       "<function ipywidgets.widgets.interaction._InteractFactory.__call__.<locals>.<lambda>(*args, **kwargs)>"
      ]
     },
     "execution_count": 34,
     "metadata": {},
     "output_type": "execute_result"
    }
   ],
   "source": [
    "def normalize(image, positive=False, relu=False, cap=1.1):\n",
    "    image = np.clip(image, -cap, cap)\n",
    "    if image.max() > 1:\n",
    "        image[image>=0] = image[image>=0]/image.max()\n",
    "    if image.min() < -1:\n",
    "        image[image<0] = image[image<0] / (-image.min())\n",
    "    if positive and image.min()<0:\n",
    "        return (image + 1)/2\n",
    "    if relu:\n",
    "        image[image<0] = 0\n",
    "        return image\n",
    "    return image\n",
    "\n",
    "def collect(model, l):\n",
    "    if hasattr(model, 'register_forward_hook'):\n",
    "        model.register_forward_hook(lambda module, input, output: l.append((module.__class__, output)))\n",
    "    if hasattr(model, 'children'):\n",
    "        for child in model.children(): collect(child, l)\n",
    "    if isinstance(model, Sequence):\n",
    "        for layer in model: collect(layer, l)\n",
    "            \n",
    "def release(model):\n",
    "    if hasattr(model, '_forward_hooks'):\n",
    "        model._forward_hooks = OrderedDict()\n",
    "    if hasattr(model, 'children'):\n",
    "        for child in model.children(): release(child)\n",
    "    if isinstance(model, Sequence):\n",
    "        for layer in model: release(layer)\n",
    "\n",
    "class FeatureMaps(object):\n",
    "    \n",
    "    def __init__(self, model, dataset, data_transform=lambda x: x[0][None, ...], layer=None, channel=None, interpolation=cv2.INTER_LINEAR, filters=[]):\n",
    "        self.collection = []\n",
    "        self.model = model\n",
    "        self.dataset = dataset\n",
    "        self.data_transform = data_transform\n",
    "        self.current_sample = None\n",
    "        self.current_index = 0\n",
    "        self.current_layer = None\n",
    "        self.current_map = None\n",
    "        self.interpolation = interpolation\n",
    "        self.filters = filters\n",
    "        self.layer = ipw.IntSlider(min=0, value=0, continuous_update=False) if layer is None else layer\n",
    "        self.channel = ipw.IntSlider(min=0, value=0, continuous_update=False) if channel is None else channel\n",
    "        \n",
    "        self.change_sample(0)\n",
    "        self.change_feature_map(0)\n",
    "        \n",
    "    def change_sample(self, index):\n",
    "        self.current_index = index\n",
    "        sample = self.dataset[index]\n",
    "        self.current_sample = self.data_transform(sample).to(next(iter(self.model.parameters())))\n",
    "        self.update_feature_maps()\n",
    "            \n",
    "    def change_feature_map(self, layer):\n",
    "        self.current_map = self.collection[layer][1][0]\n",
    "        print(self.collection[layer][0].__name__)\n",
    "        self.channel.max = self.current_map.shape[0]-1\n",
    "            \n",
    "    def update_feature_maps(self):\n",
    "        self.collection = []\n",
    "        collect(self.model, self.collection)\n",
    "        self.model(self.current_sample)\n",
    "        release(self.model)\n",
    "        if len(self.filters) > 0:\n",
    "            self.collection = [c for c in self.collection if c[0].__name__ in self.filters]\n",
    "        self.layer.max = len(self.collection)-1\n",
    "        \n",
    "    def get_feature_map(self, index, layer, channel):\n",
    "        \n",
    "        if index != self.current_index:\n",
    "            self.change_sample(index)\n",
    "        if layer != self.layer:\n",
    "            self.change_feature_map(layer)\n",
    "        try:\n",
    "            fmap = self.current_map[channel].float().cpu().numpy()\n",
    "            fmap = cv2.resize(fmap, dsize=self.current_sample.shape[2:], interpolation=self.interpolation)\n",
    "            return fmap\n",
    "        except IndexError:\n",
    "            return None\n",
    "        \n",
    "    def show_feature_map(self, index, layer, channel, alpha=0.65):\n",
    "        \n",
    "        fmap = self.get_feature_map(index, layer, channel)\n",
    "        if fmap is None: return\n",
    "        sample = self.current_sample.float().cpu().numpy()[0].mean(0)\n",
    "        sample = normalize(sample)\n",
    "        fig, (ax1, ax2) = plt.subplots(1, 2, figsize=(10.24, 5.12))\n",
    "        ax1.imshow(sample, vmin=0, vmax=1, alpha=1-alpha, cmap='gray')\n",
    "        ax1.imshow(fmap, vmin=0, vmax=1, alpha=alpha, cmap='inferno')\n",
    "        ax1.set_axis_off()\n",
    "        im = ax2.imshow(normalize(fmap), 'seismic', vmin=-1, vmax=1)\n",
    "        ax2.set_axis_off()\n",
    "        plt.subplots_adjust(0,0,1,1,0,0)\n",
    "        plt.show()\n",
    "        \n",
    "maps = FeatureMaps(models[16][3].cuda(), dataset, filters=[])#['GeneralConvolution', 'ResBlock2d'])\n",
    "ipw.interact(maps.show_feature_map, layer=maps.layer, channel=maps.channel, index=ipw.IntSlider(min=0, max=len(dataset)-1, value=0, continuous_update=False))"
   ]
  },
  {
   "cell_type": "code",
   "execution_count": null,
   "metadata": {},
   "outputs": [],
   "source": []
  },
  {
   "cell_type": "code",
   "execution_count": null,
   "metadata": {},
   "outputs": [],
   "source": []
  },
  {
   "cell_type": "code",
   "execution_count": null,
   "metadata": {},
   "outputs": [],
   "source": []
  },
  {
   "cell_type": "code",
   "execution_count": null,
   "metadata": {},
   "outputs": [],
   "source": []
  },
  {
   "cell_type": "code",
   "execution_count": null,
   "metadata": {},
   "outputs": [],
   "source": []
  },
  {
   "cell_type": "code",
   "execution_count": null,
   "metadata": {},
   "outputs": [],
   "source": []
  },
  {
   "cell_type": "code",
   "execution_count": null,
   "metadata": {},
   "outputs": [],
   "source": []
  }
 ],
 "metadata": {
  "kernelspec": {
   "display_name": "Python 3",
   "language": "python",
   "name": "python3"
  },
  "language_info": {
   "codemirror_mode": {
    "name": "ipython",
    "version": 3
   },
   "file_extension": ".py",
   "mimetype": "text/x-python",
   "name": "python",
   "nbconvert_exporter": "python",
   "pygments_lexer": "ipython3",
   "version": "3.7.6"
  }
 },
 "nbformat": 4,
 "nbformat_minor": 4
}
